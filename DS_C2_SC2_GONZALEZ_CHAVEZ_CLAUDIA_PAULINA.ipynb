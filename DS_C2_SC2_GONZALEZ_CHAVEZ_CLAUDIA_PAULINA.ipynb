{
 "cells": [
  {
   "cell_type": "code",
   "execution_count": null,
   "metadata": {},
   "outputs": [],
   "source": []
  }
 ],
 "metadata": {
  "kernelspec": {
   "display_name": "Python 3",
   "language": "python",
   "name": "python3"
  },
  "language_info": {
   "name": "python",
   "version": "3.10.11 (tags/v3.10.11:7d4cc5a, Apr  5 2023, 00:38:17) [MSC v.1929 64 bit (AMD64)]"
  },
  "orig_nbformat": 4,
  "vscode": {
   "interpreter": {
    "hash": "6291ce4dee650e945ceef89d30b3ab9c728cac3af17edc6aad6b89be5d4e3192"
   }
  }
 },
 "nbformat": 4,
 "nbformat_minor": 2
}
